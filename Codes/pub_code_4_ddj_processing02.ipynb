{
 "cells": [
  {
   "cell_type": "code",
   "execution_count": null,
   "metadata": {},
   "outputs": [],
   "source": [
    "# This Python notebook constructs the \"co-retweeted network\" \n",
    "\n",
    "# input file: a xxx.csv file, with all the tweets from all the verified accounts \n",
    "\n",
    "import csv \n",
    "import pandas as pd\n",
    "source_target = pd.read_csv(open('xxx.csv',encoding='utf-8',errors='ignore'),usecols=['username','tweet'])\n",
    "source_target.to_csv('source_target.csv')"
   ]
  },
  {
   "cell_type": "code",
   "execution_count": null,
   "metadata": {},
   "outputs": [],
   "source": [
    "import re\n",
    "username = []\n",
    "tweetname = []\n",
    "f = open(\"source_target.csv\",\"r\")\n",
    "lines = open(\"source_target.csv\",\"r\")\n",
    "for line in lines:\n",
    "    if 'RT @' in line:   # selecting the tweets that were \"retweeted\" tweets\n",
    "        username.append(re.split(',',line)[1])  \n",
    "        tweetname.append(re.split('RT @|:',line)[1]) \n",
    "#for i in range(1,10):       \n",
    "print(username[0])\n",
    "print(\"---------------\")\n",
    "print(tweetname[3])\n",
    "type(username)"
   ]
  },
  {
   "cell_type": "code",
   "execution_count": null,
   "metadata": {},
   "outputs": [],
   "source": [
    "from collections import defaultdict\n",
    "from itertools import combinations\n",
    "from collections import Counter\n",
    "source = username\n",
    "\n",
    "def list_duplicates(seq):\n",
    "    tally = defaultdict(list)\n",
    "    for i,item in enumerate(seq):  \n",
    "        #tally[item].append(i) \n",
    "        tally[item].append(tweetname[i])\n",
    "        #print(item,tweetname[i])\n",
    "    return ((key,locs) for key,locs in tally.items() \n",
    "                            if len(locs)>1)\n",
    "\n",
    "final_list = []\n",
    "\n",
    "for dup in sorted(list_duplicates(source)):\n",
    "    newdup = []\n",
    "    newdup = {}.fromkeys(dup[1]).keys() \n",
    "    if len(newdup)>1:  \n",
    "        combinations_list=list(combinations(newdup,2)) \n",
    "        final_list.extend(combinations_list)  \n",
    "print(len(final_list))\n",
    "    #print('-----') \n",
    "\n",
    "\n",
    "reList = list(set([tuple(t) for t in final_list]))\n",
    "reList = [list(v) for v in reList]  \n",
    "print(len(reList))\n"
   ]
  },
  {
   "cell_type": "code",
   "execution_count": null,
   "metadata": {},
   "outputs": [],
   "source": [
    "dictresult={}\n",
    "for i in final_list:\n",
    "    dictresult[i]=final_list.count(i)\n",
    "#print(i)   "
   ]
  },
  {
   "cell_type": "code",
   "execution_count": null,
   "metadata": {},
   "outputs": [],
   "source": [
    "name=['source','target']\n",
    "test1=pd.DataFrame(columns=name,data=reList)\n",
    "test1.to_csv('yyy.csv',encoding='gbk') \n",
    "\n",
    "print(len(test1))"
   ]
  },
  {
   "cell_type": "code",
   "execution_count": null,
   "metadata": {},
   "outputs": [],
   "source": []
  },
  {
   "cell_type": "code",
   "execution_count": null,
   "metadata": {},
   "outputs": [],
   "source": []
  }
 ],
 "metadata": {
  "kernelspec": {
   "display_name": "Python 3",
   "language": "python",
   "name": "python3"
  },
  "language_info": {
   "codemirror_mode": {
    "name": "ipython",
    "version": 3
   },
   "file_extension": ".py",
   "mimetype": "text/x-python",
   "name": "python",
   "nbconvert_exporter": "python",
   "pygments_lexer": "ipython3",
   "version": "3.7.4"
  },
  "toc": {
   "nav_menu": {},
   "number_sections": true,
   "sideBar": true,
   "skip_h1_title": false,
   "title_cell": "Table of Contents",
   "title_sidebar": "Contents",
   "toc_cell": false,
   "toc_position": {},
   "toc_section_display": true,
   "toc_window_display": false
  }
 },
 "nbformat": 4,
 "nbformat_minor": 2
}
